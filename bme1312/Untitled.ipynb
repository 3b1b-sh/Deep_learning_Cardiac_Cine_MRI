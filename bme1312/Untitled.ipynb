{
 "cells": [
  {
   "cell_type": "code",
   "execution_count": 1,
   "id": "97c42d59-343d-4e6a-97ef-6c65d5741cbb",
   "metadata": {},
   "outputs": [],
   "source": [
    "# BME-1301 Lab-2: Segmentation using U-Net"
   ]
  },
  {
   "cell_type": "code",
   "execution_count": 12,
   "id": "ca2c07d8-7fcb-4a76-a700-1aedd0318a41",
   "metadata": {},
   "outputs": [],
   "source": [
    "import os\n",
    "from PIL import Image\n",
    "all_label_path = 'C:/Users/DELL/Desktop/homework/bme1301 transfer/ACDC-2D-All/ACDC-2D-one/val/GT/'\n",
    "all_label_list = os.listdir(all_label_path)\n",
    "all_label_path = [os.path.join(all_label_path,all_label_list[i]) for i in range(len(all_label_list))]\n",
    "#print(all_label_path)\n",
    "\n",
    "\n",
    "for path in all_label_path:\n",
    "    img = Image.open(path)\n",
    "    im=np.array(img)\n",
    "    im[im<255]=0\n",
    "    img = Image.fromarray(im)\n",
    "    img.save(path)\n",
    "    "
   ]
  },
  {
   "cell_type": "code",
   "execution_count": null,
   "id": "81eed033-a9af-47de-b7ca-e6bac10071c4",
   "metadata": {},
   "outputs": [],
   "source": []
  }
 ],
 "metadata": {
  "kernelspec": {
   "display_name": "Python 3 (ipykernel)",
   "language": "python",
   "name": "python3"
  },
  "language_info": {
   "codemirror_mode": {
    "name": "ipython",
    "version": 3
   },
   "file_extension": ".py",
   "mimetype": "text/x-python",
   "name": "python",
   "nbconvert_exporter": "python",
   "pygments_lexer": "ipython3",
   "version": "3.9.13"
  }
 },
 "nbformat": 4,
 "nbformat_minor": 5
}
